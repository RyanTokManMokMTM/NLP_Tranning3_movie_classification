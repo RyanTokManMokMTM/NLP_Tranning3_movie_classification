{
  "nbformat": 4,
  "nbformat_minor": 0,
  "metadata": {
    "colab": {
      "name": "web crawler",
      "provenance": [],
      "collapsed_sections": [],
      "authorship_tag": "ABX9TyMRegww+EdRZbVhOCsC4UiB",
      "include_colab_link": true
    },
    "kernelspec": {
      "name": "python3",
      "display_name": "Python 3"
    },
    "language_info": {
      "name": "python"
    }
  },
  "cells": [
    {
      "cell_type": "markdown",
      "metadata": {
        "id": "view-in-github",
        "colab_type": "text"
      },
      "source": [
        "<a href=\"https://colab.research.google.com/github/RyanTokManMokMTM/NLP_Tranning3_movie_classification/blob/main/movie_classification.ipynb\" target=\"_parent\"><img src=\"https://colab.research.google.com/assets/colab-badge.svg\" alt=\"Open In Colab\"/></a>"
      ]
    },
    {
      "cell_type": "markdown",
      "metadata": {
        "id": "VViNTJ8cEyZH"
      },
      "source": [
        "## Classification the movie"
      ]
    },
    {
      "cell_type": "code",
      "metadata": {
        "id": "UzXSIHHPUOea",
        "colab": {
          "base_uri": "https://localhost:8080/",
          "height": 35
        },
        "outputId": "9ecb189e-2179-4dae-e1eb-9f76733558f8"
      },
      "source": [
        "'''\n",
        "TODO:\n",
        "According Genre[0] for k,\n",
        "Acording to the\n",
        "'''"
      ],
      "execution_count": 29,
      "outputs": [
        {
          "output_type": "execute_result",
          "data": {
            "application/vnd.google.colaboratory.intrinsic+json": {
              "type": "string"
            },
            "text/plain": [
              "'\\nTODO:\\nAccording Genre[0] for k,\\nAcording to the\\n'"
            ]
          },
          "metadata": {
            "tags": []
          },
          "execution_count": 29
        }
      ]
    },
    {
      "cell_type": "code",
      "metadata": {
        "id": "gbDFMxRNEw6_"
      },
      "source": [
        "#read the movie\n",
        "import csv\n",
        "import pandas as pd\n",
        "myDatas = []\n",
        "\n",
        "df = pd.read_csv(\"./trainMovies.csv\",encoding=\"utf-8\")\n",
        "header = df.columns.values.tolist()\n",
        "myDatas = df.values.tolist()\n",
        "\n",
        "#remove all extra characters in intro\n",
        "for i in myDatas:\n",
        "  i[3] = i[3].split()[0]"
      ],
      "execution_count": 131,
      "outputs": []
    },
    {
      "cell_type": "code",
      "metadata": {
        "id": "qiB7U6eudY6R"
      },
      "source": [
        "#remove all NA movie\n",
        "newDatas =  [movie for movie in myDatas if (type(movie[1]) == str)]"
      ],
      "execution_count": 132,
      "outputs": []
    },
    {
      "cell_type": "code",
      "metadata": {
        "colab": {
          "base_uri": "https://localhost:8080/"
        },
        "id": "lbbe5WuQojge",
        "outputId": "dcd56f1e-de9c-4a55-f2ce-0b51c86102ca"
      },
      "source": [
        "print(header)\n",
        "print(newDatas[1])"
      ],
      "execution_count": 133,
      "outputs": [
        {
          "output_type": "stream",
          "text": [
            "['MovieName', 'genre', 'releaseDate', 'intro']\n",
            "['薄荷糖', '劇情', '2021-08-06', '★韓國重量級名導李滄東「綠色三部曲」之一！']\n"
          ],
          "name": "stdout"
        }
      ]
    },
    {
      "cell_type": "code",
      "metadata": {
        "id": "FX6S8qwe3ex9"
      },
      "source": [
        "x = [movie[0:1] + movie[2:] for movie in newDatas]\n",
        "y = [movie[1]  for movie in newDatas]"
      ],
      "execution_count": 136,
      "outputs": []
    },
    {
      "cell_type": "code",
      "metadata": {
        "id": "KkoJRzF3r5Ok"
      },
      "source": [
        "movieType = set()\n",
        "for i in y:\n",
        "  types = i.split(\",\")[0]\n",
        "  movieType.add(types)"
      ],
      "execution_count": 138,
      "outputs": []
    },
    {
      "cell_type": "code",
      "metadata": {
        "colab": {
          "base_uri": "https://localhost:8080/"
        },
        "id": "qwy46ZrK3-uZ",
        "outputId": "fe065396-4b46-499e-86b5-70911f8fb3a9"
      },
      "source": [
        "allTypes = list(movieType)\n",
        "for index,value in enumerate(allTypes):\n",
        "  print(index,value)"
      ],
      "execution_count": 142,
      "outputs": [
        {
          "output_type": "stream",
          "text": [
            "0 影展\n",
            "1 音樂/歌舞\n",
            "2 科幻\n",
            "3 冒險\n",
            "4 勵志\n",
            "5 劇情\n",
            "6 懸疑/驚悚\n",
            "7 歷史/傳記\n",
            "8 紀錄片\n",
            "9 犯罪\n",
            "10 奇幻\n",
            "11 戲劇\n",
            "12 溫馨/家庭\n",
            "13 戰爭\n",
            "14 動作\n",
            "15 恐怖\n",
            "16 動畫\n",
            "17 喜劇\n",
            "18 愛情\n"
          ],
          "name": "stdout"
        }
      ]
    },
    {
      "cell_type": "markdown",
      "metadata": {
        "id": "eG1kQSs5fOR-"
      },
      "source": [
        "# Feature\n",
        "\n",
        "\n",
        "1.   MovieName\n",
        "2.   ReleaseDate\n",
        "3.   Intro(Cut World)\n",
        "\n",
        "# Label\n",
        "1.   Genre[0]\n",
        "\n",
        "\n"
      ]
    },
    {
      "cell_type": "code",
      "metadata": {
        "colab": {
          "base_uri": "https://localhost:8080/"
        },
        "id": "zwX9VTCo8dC5",
        "outputId": "9d9218ed-d749-4160-d7f1-2e478fdf3c43"
      },
      "source": [
        "!wget  https://raw.githubusercontent.com/foowaa/Chinese_from_dongxiexidian/master/stopwords.dat"
      ],
      "execution_count": 152,
      "outputs": [
        {
          "output_type": "stream",
          "text": [
            "--2021-08-15 08:33:39--  https://raw.githubusercontent.com/foowaa/Chinese_from_dongxiexidian/master/stopwords.dat\n",
            "Resolving raw.githubusercontent.com (raw.githubusercontent.com)... 185.199.109.133, 185.199.111.133, 185.199.110.133, ...\n",
            "Connecting to raw.githubusercontent.com (raw.githubusercontent.com)|185.199.109.133|:443... connected.\n",
            "HTTP request sent, awaiting response... 200 OK\n",
            "Length: 13289 (13K) [text/plain]\n",
            "Saving to: ‘stopwords.dat’\n",
            "\n",
            "\rstopwords.dat         0%[                    ]       0  --.-KB/s               \rstopwords.dat       100%[===================>]  12.98K  --.-KB/s    in 0s      \n",
            "\n",
            "2021-08-15 08:33:40 (96.2 MB/s) - ‘stopwords.dat’ saved [13289/13289]\n",
            "\n"
          ],
          "name": "stdout"
        }
      ]
    },
    {
      "cell_type": "code",
      "metadata": {
        "id": "YWbCra3cfeI1"
      },
      "source": [
        "#cut work\n",
        "import jieba\n",
        "import codecs \n",
        "temp = x[:2]\n",
        "\n",
        "testData = x[0][2]\n",
        "\n",
        "fp = codecs.open(\"./stopwords.dat\",\"r\",encoding=\"utf-8\")\n",
        "contents = fp.read()\n",
        "fp.close()"
      ],
      "execution_count": 192,
      "outputs": []
    },
    {
      "cell_type": "code",
      "metadata": {
        "colab": {
          "base_uri": "https://localhost:8080/"
        },
        "id": "qf_d_JZb-Oy1",
        "outputId": "c87f7f5e-061f-4149-ac54-7a67ebc11058"
      },
      "source": [
        "from sklearn import feature_extraction\n",
        "from sklearn.feature_extraction.text import TfidfTransformer\n",
        "from sklearn.feature_extraction.text import CountVectorizer\n",
        "#get the word\n",
        "#clean all the stop word\n",
        "jieba.enable_paddle()\n",
        "tempCutList = []\n",
        "for data in temp:\n",
        "  cutDataList = []\n",
        "  cutDataList += [word for word in jieba.cut(data[2],cut_all=False) if word not in contents]\n",
        "  tempCutList.append(\" \".join(cutDataList))\n"
      ],
      "execution_count": 210,
      "outputs": [
        {
          "output_type": "stream",
          "text": [
            "Paddle enabled successfully......\n"
          ],
          "name": "stderr"
        }
      ]
    },
    {
      "cell_type": "code",
      "metadata": {
        "id": "uHEb_4GgCFbl",
        "outputId": "d4e784e8-ec83-4ac3-c59b-aed8ecc62420",
        "colab": {
          "base_uri": "https://localhost:8080/"
        }
      },
      "source": [
        "vectorizer = CountVectorizer() # counting each word in list\n",
        "transform = TfidfTransformer() # calculate TFIED value for each word\n",
        "\n",
        "tfidf = transform.fit_transform(vectorizer.fit_transform(tempCutList)) #t.fit =>cal tdidf ,#v.fit =>change words to t.f\n",
        "words = vectorizer.get_feature_names() # get all word \n",
        "\n",
        "weight = tfidf.toarray()\n",
        "for i in range(len(weight)):\n",
        "  print(\"------------Intro\",i,\"Term and TF-IDF:\")\n",
        "  for j in range(len(words)):\n",
        "    print(words[j],weight[i][j])"
      ],
      "execution_count": 215,
      "outputs": [
        {
          "output_type": "stream",
          "text": [
            "------------Intro 0 Term and TF-IDF:\n",
            "中國 0.0\n",
            "來到 0.5264054336099155\n",
            "北京 0.5264054336099155\n",
            "大廈 0.0\n",
            "天安門 0.0\n",
            "小明 0.0\n",
            "杭研 0.0\n",
            "清華大學 0.6676785446095399\n",
            "畢業 0.0\n",
            "碩士 0.0\n",
            "科學院 0.0\n",
            "網易 0.0\n",
            "------------Intro 1 Term and TF-IDF:\n",
            "中國 0.0\n",
            "來到 0.41428875116588965\n",
            "北京 0.0\n",
            "大廈 0.5254727492640658\n",
            "天安門 0.0\n",
            "小明 0.0\n",
            "杭研 0.5254727492640658\n",
            "清華大學 0.0\n",
            "畢業 0.0\n",
            "碩士 0.0\n",
            "科學院 0.0\n",
            "網易 0.5254727492640658\n",
            "------------Intro 2 Term and TF-IDF:\n",
            "中國 0.4472135954999579\n",
            "來到 0.0\n",
            "北京 0.0\n",
            "大廈 0.0\n",
            "天安門 0.0\n",
            "小明 0.4472135954999579\n",
            "杭研 0.0\n",
            "清華大學 0.0\n",
            "畢業 0.4472135954999579\n",
            "碩士 0.4472135954999579\n",
            "科學院 0.4472135954999579\n",
            "網易 0.0\n",
            "------------Intro 3 Term and TF-IDF:\n",
            "中國 0.0\n",
            "來到 0.0\n",
            "北京 0.6191302964899972\n",
            "大廈 0.0\n",
            "天安門 0.7852882757103967\n",
            "小明 0.0\n",
            "杭研 0.0\n",
            "清華大學 0.0\n",
            "畢業 0.0\n",
            "碩士 0.0\n",
            "科學院 0.0\n",
            "網易 0.0\n"
          ],
          "name": "stdout"
        }
      ]
    }
  ]
}