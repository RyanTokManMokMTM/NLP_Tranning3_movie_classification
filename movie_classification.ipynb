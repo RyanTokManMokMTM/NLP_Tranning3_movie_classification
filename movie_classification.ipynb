{
  "nbformat": 4,
  "nbformat_minor": 0,
  "metadata": {
    "colab": {
      "name": "web crawler",
      "provenance": [],
      "collapsed_sections": [],
      "authorship_tag": "ABX9TyPFbNG5wq+rce1x4W7oSU1Y",
      "include_colab_link": true
    },
    "kernelspec": {
      "name": "python3",
      "display_name": "Python 3"
    },
    "language_info": {
      "name": "python"
    }
  },
  "cells": [
    {
      "cell_type": "markdown",
      "metadata": {
        "id": "view-in-github",
        "colab_type": "text"
      },
      "source": [
        "<a href=\"https://colab.research.google.com/github/RyanTokManMokMTM/NLP_Tranning3_movie_classification/blob/main/movie_classification.ipynb\" target=\"_parent\"><img src=\"https://colab.research.google.com/assets/colab-badge.svg\" alt=\"Open In Colab\"/></a>"
      ]
    },
    {
      "cell_type": "markdown",
      "metadata": {
        "id": "VViNTJ8cEyZH"
      },
      "source": [
        "## Classification the movie"
      ]
    },
    {
      "cell_type": "code",
      "metadata": {
        "id": "UzXSIHHPUOea"
      },
      "source": [
        "'''\n",
        "TODO:\n",
        "According Genre[0] for k,\n",
        "Acording to the\n",
        "'''"
      ],
      "execution_count": null,
      "outputs": []
    },
    {
      "cell_type": "code",
      "metadata": {
        "id": "gbDFMxRNEw6_",
        "outputId": "d531c270-a8bc-43dc-fe53-06310796c8fb",
        "colab": {
          "base_uri": "https://localhost:8080/",
          "height": 86
        }
      },
      "source": [
        "#read the movie\n",
        "import csv\n",
        "myDatas = []\n",
        "f = csv.DictReader(open(\"./movies.csv\"))\n",
        "for row in f:\n",
        "  myDatas.append(dict(row))\n",
        "\n",
        "temp = myDatas[0][\"intro\"]\n",
        "\"\".join(temp.split())"
      ],
      "execution_count": 57,
      "outputs": [
        {
          "output_type": "execute_result",
          "data": {
            "application/vnd.google.colaboratory.intrinsic+json": {
              "type": "string"
            },
            "text/plain": [
              "'皮克斯全新原創《路卡的夏天》，故事背景發生在美麗的義大利濱海小鎮里維埃拉，一位名叫路卡的海怪男孩的難忘夏天，他與新摯友們在夏天經歷的無數冒險，包含他們在島上參加的競賽，但最刺激的不是競賽本身，而是隱藏他們呼之欲出的海怪身份…《路卡的夏天》是一個成長的故事，海怪男孩是曾經的你我，好奇心驅使你走出舒適圈，遇見真誠的友誼，學習鼓起勇氣由衷生活，完成自以為不可能的夢想…'"
            ]
          },
          "metadata": {
            "tags": []
          },
          "execution_count": 57
        }
      ]
    },
    {
      "cell_type": "code",
      "metadata": {
        "id": "qiB7U6eudY6R"
      },
      "source": [
        "#Remove all \\n line break with introl string\n",
        "genreList = set()\n",
        "for i in myDatas:\n",
        "  i[\"intro\"] = \"\".join(i[\"intro\"].split())\n",
        "  i[\"genre\"] =  i[\"genre\"].split(\",\")\n",
        "  if((i[\"genre\"][0] in genreList) == False):\n",
        "    genreList.add(i[\"genre\"][0])"
      ],
      "execution_count": 58,
      "outputs": []
    },
    {
      "cell_type": "code",
      "metadata": {
        "id": "27A1v_bsfh6i",
        "outputId": "90066c42-c396-4128-a6ee-b91655c5e575",
        "colab": {
          "base_uri": "https://localhost:8080/"
        }
      },
      "source": [
        "genreList.remove(\"\")\n",
        "genreList"
      ],
      "execution_count": 61,
      "outputs": [
        {
          "output_type": "execute_result",
          "data": {
            "text/plain": [
              "{'冒險',\n",
              " '劇情',\n",
              " '動作',\n",
              " '動畫',\n",
              " '勵志',\n",
              " '喜劇',\n",
              " '奇幻',\n",
              " '影展',\n",
              " '恐怖',\n",
              " '愛情',\n",
              " '懸疑/驚悚',\n",
              " '戰爭',\n",
              " '戲劇',\n",
              " '歷史/傳記',\n",
              " '溫馨/家庭',\n",
              " '犯罪',\n",
              " '科幻',\n",
              " '紀錄片',\n",
              " '音樂/歌舞'}"
            ]
          },
          "metadata": {
            "tags": []
          },
          "execution_count": 61
        }
      ]
    },
    {
      "cell_type": "code",
      "metadata": {
        "id": "nftMOdP_gYIv"
      },
      "source": [
        "k = len(genreList) # group of genre length"
      ],
      "execution_count": 63,
      "outputs": []
    },
    {
      "cell_type": "code",
      "metadata": {
        "id": "ZR4tDGy3gX_5"
      },
      "source": [
        "genreList = list(genreList)"
      ],
      "execution_count": 64,
      "outputs": []
    },
    {
      "cell_type": "code",
      "metadata": {
        "id": "6zG7NLvlhp4_",
        "outputId": "b900b62f-b427-4542-fbae-adbf6626d123",
        "colab": {
          "base_uri": "https://localhost:8080/"
        }
      },
      "source": [
        "genreList"
      ],
      "execution_count": 65,
      "outputs": [
        {
          "output_type": "execute_result",
          "data": {
            "text/plain": [
              "['音樂/歌舞',\n",
              " '影展',\n",
              " '動畫',\n",
              " '喜劇',\n",
              " '懸疑/驚悚',\n",
              " '動作',\n",
              " '冒險',\n",
              " '劇情',\n",
              " '犯罪',\n",
              " '戰爭',\n",
              " '愛情',\n",
              " '恐怖',\n",
              " '科幻',\n",
              " '紀錄片',\n",
              " '戲劇',\n",
              " '奇幻',\n",
              " '溫馨/家庭',\n",
              " '勵志',\n",
              " '歷史/傳記']"
            ]
          },
          "metadata": {
            "tags": []
          },
          "execution_count": 65
        }
      ]
    },
    {
      "cell_type": "code",
      "metadata": {
        "id": "8z4PbXiSjbke",
        "outputId": "3c2a7d50-c5be-471c-956b-f505991a68fa",
        "colab": {
          "base_uri": "https://localhost:8080/"
        }
      },
      "source": [
        "pip install paddlepaddle-tiny==1.6.1"
      ],
      "execution_count": 67,
      "outputs": [
        {
          "output_type": "stream",
          "text": [
            "Collecting paddlepaddle-tiny==1.6.1\n",
            "  Downloading paddlepaddle_tiny-1.6.1-cp37-cp37m-manylinux1_x86_64.whl (39.8 MB)\n",
            "\u001b[K     |████████████████████████████████| 39.8 MB 26 kB/s \n",
            "\u001b[?25hCollecting objgraph\n",
            "  Downloading objgraph-3.5.0-py2.py3-none-any.whl (17 kB)\n",
            "Requirement already satisfied: numpy>=1.12 in /usr/local/lib/python3.7/dist-packages (from paddlepaddle-tiny==1.6.1) (1.19.5)\n",
            "Requirement already satisfied: decorator in /usr/local/lib/python3.7/dist-packages (from paddlepaddle-tiny==1.6.1) (4.4.2)\n",
            "Requirement already satisfied: protobuf>=3.1.0 in /usr/local/lib/python3.7/dist-packages (from paddlepaddle-tiny==1.6.1) (3.17.3)\n",
            "Requirement already satisfied: six in /usr/local/lib/python3.7/dist-packages (from paddlepaddle-tiny==1.6.1) (1.15.0)\n",
            "Requirement already satisfied: graphviz in /usr/local/lib/python3.7/dist-packages (from paddlepaddle-tiny==1.6.1) (0.10.1)\n",
            "Requirement already satisfied: requests>=2.0.0 in /usr/local/lib/python3.7/dist-packages (from paddlepaddle-tiny==1.6.1) (2.23.0)\n",
            "Requirement already satisfied: idna<3,>=2.5 in /usr/local/lib/python3.7/dist-packages (from requests>=2.0.0->paddlepaddle-tiny==1.6.1) (2.10)\n",
            "Requirement already satisfied: urllib3!=1.25.0,!=1.25.1,<1.26,>=1.21.1 in /usr/local/lib/python3.7/dist-packages (from requests>=2.0.0->paddlepaddle-tiny==1.6.1) (1.24.3)\n",
            "Requirement already satisfied: chardet<4,>=3.0.2 in /usr/local/lib/python3.7/dist-packages (from requests>=2.0.0->paddlepaddle-tiny==1.6.1) (3.0.4)\n",
            "Requirement already satisfied: certifi>=2017.4.17 in /usr/local/lib/python3.7/dist-packages (from requests>=2.0.0->paddlepaddle-tiny==1.6.1) (2021.5.30)\n",
            "Installing collected packages: objgraph, paddlepaddle-tiny\n",
            "Successfully installed objgraph-3.5.0 paddlepaddle-tiny-1.6.1\n"
          ],
          "name": "stdout"
        }
      ]
    },
    {
      "cell_type": "code",
      "metadata": {
        "id": "FX6S8qwe3ex9",
        "outputId": "c64e8ebf-db85-4b4a-d0ed-aaaefbecd773",
        "colab": {
          "base_uri": "https://localhost:8080/"
        }
      },
      "source": [
        "import jieba as jb\n",
        "tempData = myDatas[666]\n",
        "jb.enable_paddle()\n",
        "tempStr = jb.cut(tempData[\"intro\"],use_paddle=True)\n",
        "print(\"|\".join(tempStr))"
      ],
      "execution_count": 74,
      "outputs": [
        {
          "output_type": "stream",
          "text": [
            "Paddle enabled successfully......\n"
          ],
          "name": "stderr"
        },
        {
          "output_type": "stream",
          "text": [
            "《|罪夢者|》|故事|講述|死刑犯|阿全|在|獄|中|等待|死刑|的|漫漫|長日裡，|聽|聞|自己|的|兒子|遭到|綁架|，為|了|救|回|兒子|及|保護|家人|，|阿全|策劃|逃出|囚籠，卻|發現|自己|身陷|更|危險|的|計謀|之|中|。|整|段|過程|中|，|阿全|不|時會|陷入|半夢半醒|的|境界|，|他|也|將|帶領|觀眾|一起|踏上|救贖|之路|。這|是|一部|關於|兄弟情|、黑幫|社會|跟|逃獄|的|故事|。\n"
          ],
          "name": "stdout"
        }
      ]
    }
  ]
}